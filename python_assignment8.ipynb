{
  "nbformat": 4,
  "nbformat_minor": 0,
  "metadata": {
    "colab": {
      "provenance": [],
      "authorship_tag": "ABX9TyOemMlhWqxaR1tBbIl1WFxJ",
      "include_colab_link": true
    },
    "kernelspec": {
      "name": "python3",
      "display_name": "Python 3"
    },
    "language_info": {
      "name": "python"
    }
  },
  "cells": [
    {
      "cell_type": "markdown",
      "metadata": {
        "id": "view-in-github",
        "colab_type": "text"
      },
      "source": [
        "<a href=\"https://colab.research.google.com/github/shahid-jafri/45-Ex/blob/main/python_assignment8.ipynb\" target=\"_parent\"><img src=\"https://colab.research.google.com/assets/colab-badge.svg\" alt=\"Open In Colab\"/></a>"
      ]
    },
    {
      "cell_type": "code",
      "execution_count": null,
      "metadata": {
        "id": "bL2HT_ER8anG"
      },
      "outputs": [],
      "source": []
    },
    {
      "cell_type": "markdown",
      "source": [
        "Problem Statement:\n",
        "In this puzzle game, you must use three buckets (three-liter, five-liter, and eight-liter buckets) to collect exactly four liters of water in one of the buckets. Buckets can only be emptied, completely filled, or poured into another bucket. For example, you can fill the five-liter bucket and then pour its contents into the three-liter bucket, leaving you with a full three-liter bucket and two liters of water in the five-liter bucket.\n",
        "\n"
      ],
      "metadata": {
        "id": "tffVVrgL9V-C"
      }
    },
    {
      "cell_type": "code",
      "source": [
        "from collections import deque\n",
        "\n",
        "def water_bucket_puzzle():\n",
        "    # The state of the buckets is represented as a tuple (A, B, C)\n",
        "    # A: 3-liter bucket, B: 5-liter bucket, C: 8-liter bucket\n",
        "\n",
        "    # Initial state: all buckets are empty\n",
        "    initial_state = (0, 0, 0)\n",
        "    # The goal is to reach a state where one of the buckets has exactly 4 liters\n",
        "    goal = 4\n",
        "\n",
        "    # List of possible operations\n",
        "    def get_possible_moves(state):\n",
        "        A, B, C = state\n",
        "        moves = []\n",
        "\n",
        "        # Fill any of the buckets\n",
        "        if A < 3:\n",
        "            moves.append((3, B, C))  # Fill 3-liter bucket\n",
        "        if B < 5:\n",
        "            moves.append((A, 5, C))  # Fill 5-liter bucket\n",
        "        if C < 8:\n",
        "            moves.append((A, B, 8))  # Fill 8-liter bucket\n",
        "\n",
        "        # Empty any of the buckets\n",
        "        if A > 0:\n",
        "            moves.append((0, B, C))  # Empty 3-liter bucket\n",
        "        if B > 0:\n",
        "            moves.append((A, 0, C))  # Empty 5-liter bucket\n",
        "        if C > 0:\n",
        "            moves.append((A, B, 0))  # Empty 8-liter bucket\n",
        "\n",
        "        # Pour from one bucket to another\n",
        "        # Pour from A to B\n",
        "        if A > 0 and B < 5:\n",
        "            pour = min(A, 5 - B)\n",
        "            moves.append((A - pour, B + pour, C))\n",
        "        # Pour from A to C\n",
        "        if A > 0 and C < 8:\n",
        "            pour = min(A, 8 - C)\n",
        "            moves.append((A - pour, B, C + pour))\n",
        "        # Pour from B to A\n",
        "        if B > 0 and A < 3:\n",
        "            pour = min(B, 3 - A)\n",
        "            moves.append((A + pour, B - pour, C))\n",
        "        # Pour from B to C\n",
        "        if B > 0 and C < 8:\n",
        "            pour = min(B, 8 - C)\n",
        "            moves.append((A, B - pour, C + pour))\n",
        "        # Pour from C to A\n",
        "        if C > 0 and A < 3:\n",
        "            pour = min(C, 3 - A)\n",
        "            moves.append((A + pour, B, C - pour))\n",
        "        # Pour from C to B\n",
        "        if C > 0 and B < 5:\n",
        "            pour = min(C, 5 - B)\n",
        "            moves.append((A, B + pour, C - pour))\n",
        "\n",
        "        return moves\n",
        "\n",
        "    # BFS to find the solution\n",
        "    queue = deque([(initial_state, [])])\n",
        "    visited = set()\n",
        "    visited.add(initial_state)\n",
        "\n",
        "    while queue:\n",
        "        state, path = queue.popleft()\n",
        "        A, B, C = state\n",
        "\n",
        "        # If we reach the goal\n",
        "        if A == goal or B == goal or C == goal:\n",
        "            return path + [state]\n",
        "\n",
        "        # Generate all possible moves from current state\n",
        "        for next_state in get_possible_moves(state):\n",
        "            if next_state not in visited:\n",
        "                visited.add(next_state)\n",
        "                queue.append((next_state, path + [state]))\n",
        "\n",
        "    return None  # If no solution is found\n",
        "\n",
        "# Solve the puzzle\n",
        "solution = water_bucket_puzzle()\n",
        "\n",
        "# Print the solution\n",
        "if solution:\n",
        "    print(\"Solution steps (state of buckets at each step):\")\n",
        "    for step in solution:\n",
        "        print(f\"3L Bucket: {step[0]} L, 5L Bucket: {step[1]} L, 8L Bucket: {step[2]} L\")\n",
        "else:\n",
        "    print(\"No solution found.\")\n"
      ],
      "metadata": {
        "colab": {
          "base_uri": "https://localhost:8080/"
        },
        "id": "ISrCw_Jy9nMq",
        "outputId": "0c846ae4-388d-4416-ac3a-23483bd5828f"
      },
      "execution_count": 2,
      "outputs": [
        {
          "output_type": "stream",
          "name": "stdout",
          "text": [
            "Solution steps (state of buckets at each step):\n",
            "3L Bucket: 0 L, 5L Bucket: 0 L, 8L Bucket: 0 L\n",
            "3L Bucket: 0 L, 5L Bucket: 5 L, 8L Bucket: 0 L\n",
            "3L Bucket: 3 L, 5L Bucket: 2 L, 8L Bucket: 0 L\n",
            "3L Bucket: 0 L, 5L Bucket: 2 L, 8L Bucket: 0 L\n",
            "3L Bucket: 2 L, 5L Bucket: 0 L, 8L Bucket: 0 L\n",
            "3L Bucket: 2 L, 5L Bucket: 5 L, 8L Bucket: 0 L\n",
            "3L Bucket: 3 L, 5L Bucket: 4 L, 8L Bucket: 0 L\n"
          ]
        }
      ]
    }
  ]
}